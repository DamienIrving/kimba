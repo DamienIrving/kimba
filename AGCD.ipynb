{
 "cells": [
  {
   "cell_type": "code",
   "execution_count": 1,
   "id": "a2eae9cd",
   "metadata": {
    "papermill": {
     "duration": 17.154615,
     "end_time": "2023-01-04T04:30:21.806412",
     "exception": false,
     "start_time": "2023-01-04T04:30:04.651797",
     "status": "completed"
    },
    "scrolled": true,
    "tags": []
   },
   "outputs": [],
   "source": [
    "import os\n",
    "import glob\n",
    "from collections import Counter\n",
    "import calendar\n",
    "\n",
    "import matplotlib.pyplot as plt\n",
    "import numpy as np\n",
    "import pandas as pd\n",
    "import xarray as xr\n",
    "from scipy.stats import genextreme as gev\n",
    "import xclim as xc\n",
    "import numpy as np\n",
    "import cartopy.crs as ccrs\n",
    "import cmocean\n",
    "\n",
    "from unseen import fileio"
   ]
  },
  {
   "cell_type": "code",
   "execution_count": 2,
   "id": "302d1804",
   "metadata": {
    "execution": {
     "iopub.execute_input": "2023-01-04T04:30:21.872879Z",
     "iopub.status.busy": "2023-01-04T04:30:21.872197Z",
     "iopub.status.idle": "2023-01-04T04:30:21.875323Z",
     "shell.execute_reply": "2023-01-04T04:30:21.875841Z"
    },
    "papermill": {
     "duration": 0.033178,
     "end_time": "2023-01-04T04:30:21.876022",
     "exception": false,
     "start_time": "2023-01-04T04:30:21.842844",
     "status": "completed"
    },
    "tags": [
     "parameters"
    ]
   },
   "outputs": [],
   "source": [
    "# Parameters\n",
    "dpi = 300"
   ]
  },
  {
   "cell_type": "code",
   "execution_count": 11,
   "id": "f43ef502",
   "metadata": {
    "papermill": {
     "duration": 0.552239,
     "end_time": "2023-01-04T04:30:22.527335",
     "exception": false,
     "start_time": "2023-01-04T04:30:21.975096",
     "status": "completed"
    },
    "tags": []
   },
   "outputs": [],
   "source": [
    "ds_rx1day = fileio.open_dataset(\n",
    "    '/g/data/xv83/agcd-csiro/precip/daily/precip-total_AGCD-CSIRO_r005_19000101-20220405_daily_space-chunked.zarr/',\n",
    "    metadata_file='/home/599/dbi599/unseen/config/dataset_agcd_daily.yml',\n",
    "    variables=['pr'],\n",
    "    point_selection=[-33.138378457908466, 136.41864477348216],\n",
    "    time_freq='A-DEC',\n",
    "    time_agg='max',\n",
    "    input_freq='D',\n",
    "    units={'pr': 'mm day-1'},\n",
    "    time_agg_dates=True\n",
    ")"
   ]
  },
  {
   "cell_type": "code",
   "execution_count": 14,
   "id": "0d2cc2da",
   "metadata": {
    "papermill": {
     "duration": 0.758657,
     "end_time": "2023-01-04T04:30:23.307496",
     "exception": false,
     "start_time": "2023-01-04T04:30:22.548839",
     "status": "completed"
    },
    "tags": []
   },
   "outputs": [
    {
     "data": {
      "image/png": "[encoded data removed]",
      "text/plain": [
       "<Figure size 432x288 with 1 Axes>"
      ]
     },
     "metadata": {
      "needs_background": "light"
     },
     "output_type": "display_data"
    }
   ],
   "source": [
    "ds_rx1day['pr'].plot()\n",
    "plt.title('Rx1day for Kimba, SA (AGCD)')\n",
    "plt.ylabel('precipitation (mm)')\n",
    "plt.xlabel('year')\n",
    "plt.show()"
   ]
  },
  {
   "cell_type": "code",
   "execution_count": 15,
   "id": "da74470a",
   "metadata": {
    "papermill": {
     "duration": 0.176279,
     "end_time": "2023-01-04T04:30:23.507720",
     "exception": false,
     "start_time": "2023-01-04T04:30:23.331441",
     "status": "completed"
    },
    "tags": []
   },
   "outputs": [],
   "source": [
    "years = ds_rx1day['time'].dt.year.values\n",
    "df_rx1day = pd.DataFrame(index=years)\n",
    "df_rx1day['pr'] = ds_rx1day['pr'].values\n",
    "df_rx1day['event_time'] = ds_rx1day['event_time'].values"
   ]
  },
  {
   "cell_type": "code",
   "execution_count": 17,
   "id": "39050e49",
   "metadata": {
    "papermill": {
     "duration": 0.030675,
     "end_time": "2023-01-04T04:30:23.562456",
     "exception": false,
     "start_time": "2023-01-04T04:30:23.531781",
     "status": "completed"
    },
    "tags": []
   },
   "outputs": [
    {
     "data": {
      "text/html": [
       "<div>\n",
       "<style scoped>\n",
       "    .dataframe tbody tr th:only-of-type {\n",
       "        vertical-align: middle;\n",
       "    }\n",
       "\n",
       "    .dataframe tbody tr th {\n",
       "        vertical-align: top;\n",
       "    }\n",
       "\n",
       "    .dataframe thead th {\n",
       "        text-align: right;\n",
       "    }\n",
       "</style>\n",
       "<table border=\"1\" class=\"dataframe\">\n",
       "  <thead>\n",
       "    <tr style=\"text-align: right;\">\n",
       "      <th></th>\n",
       "      <th>pr</th>\n",
       "      <th>event_time</th>\n",
       "    </tr>\n",
       "  </thead>\n",
       "  <tbody>\n",
       "    <tr>\n",
       "      <th>2022</th>\n",
       "      <td>153.939453</td>\n",
       "      <td>2022-01-22</td>\n",
       "    </tr>\n",
       "    <tr>\n",
       "      <th>1946</th>\n",
       "      <td>96.037109</td>\n",
       "      <td>1946-02-18</td>\n",
       "    </tr>\n",
       "    <tr>\n",
       "      <th>1939</th>\n",
       "      <td>79.930664</td>\n",
       "      <td>1939-11-03</td>\n",
       "    </tr>\n",
       "    <tr>\n",
       "      <th>2014</th>\n",
       "      <td>66.898438</td>\n",
       "      <td>2014-02-15</td>\n",
       "    </tr>\n",
       "    <tr>\n",
       "      <th>1962</th>\n",
       "      <td>59.588867</td>\n",
       "      <td>1962-12-29</td>\n",
       "    </tr>\n",
       "    <tr>\n",
       "      <th>1973</th>\n",
       "      <td>57.899414</td>\n",
       "      <td>1973-02-06</td>\n",
       "    </tr>\n",
       "    <tr>\n",
       "      <th>1974</th>\n",
       "      <td>52.557617</td>\n",
       "      <td>1974-01-29</td>\n",
       "    </tr>\n",
       "    <tr>\n",
       "      <th>1997</th>\n",
       "      <td>48.044922</td>\n",
       "      <td>1997-02-06</td>\n",
       "    </tr>\n",
       "    <tr>\n",
       "      <th>1979</th>\n",
       "      <td>47.994141</td>\n",
       "      <td>1979-05-25</td>\n",
       "    </tr>\n",
       "    <tr>\n",
       "      <th>1942</th>\n",
       "      <td>45.509766</td>\n",
       "      <td>1942-04-26</td>\n",
       "    </tr>\n",
       "  </tbody>\n",
       "</table>\n",
       "</div>"
      ],
      "text/plain": [
       "              pr  event_time\n",
       "2022  153.939453  2022-01-22\n",
       "1946   96.037109  1946-02-18\n",
       "1939   79.930664  1939-11-03\n",
       "2014   66.898438  2014-02-15\n",
       "1962   59.588867  1962-12-29\n",
       "1973   57.899414  1973-02-06\n",
       "1974   52.557617  1974-01-29\n",
       "1997   48.044922  1997-02-06\n",
       "1979   47.994141  1979-05-25\n",
       "1942   45.509766  1942-04-26"
      ]
     },
     "execution_count": 17,
     "metadata": {},
     "output_type": "execute_result"
    }
   ],
   "source": [
    "ranked_events = df_rx1day.sort_values(['pr'], ascending=False)\n",
    "ranked_events.head(n=10)"
   ]
  },
  {
   "cell_type": "code",
   "execution_count": 18,
   "id": "8eba155b",
   "metadata": {
    "papermill": {
     "duration": 0.024932,
     "end_time": "2023-01-04T04:30:23.611010",
     "exception": false,
     "start_time": "2023-01-04T04:30:23.586078",
     "status": "completed"
    },
    "tags": []
   },
   "outputs": [
    {
     "name": "stdout",
     "output_type": "stream",
     "text": [
      "153.93945\n"
     ]
    }
   ],
   "source": [
    "rx1day_max = df_rx1day['pr'].values.max()\n",
    "print(rx1day_max)"
   ]
  },
  {
   "cell_type": "code",
   "execution_count": 19,
   "id": "7acec122",
   "metadata": {
    "papermill": {
     "duration": 0.029879,
     "end_time": "2023-01-04T04:30:23.663601",
     "exception": false,
     "start_time": "2023-01-04T04:30:23.633722",
     "status": "completed"
    },
    "tags": []
   },
   "outputs": [],
   "source": [
    "event_months = [int(date[5:7]) for date in ds_rx1day['event_time'].values]\n",
    "event_years = [int(date[0:4]) for date in ds_rx1day['event_time'].values]"
   ]
  },
  {
   "cell_type": "code",
   "execution_count": 20,
   "id": "ae45f47f",
   "metadata": {
    "papermill": {
     "duration": 0.27577,
     "end_time": "2023-01-04T04:30:23.954462",
     "exception": false,
     "start_time": "2023-01-04T04:30:23.678692",
     "status": "completed"
    },
    "tags": []
   },
   "outputs": [
    {
     "data": {
      "image/png": "[encoded data removed]",
      "text/plain": [
       "<Figure size 432x288 with 1 Axes>"
      ]
     },
     "metadata": {
      "needs_background": "light"
     },
     "output_type": "display_data"
    }
   ],
   "source": [
    "month_counts = Counter(event_months)\n",
    "months = np.arange(1, 13)\n",
    "counts = [month_counts[month] for month in months]\n",
    "\n",
    "plt.bar(months, counts)\n",
    "plt.title('Rx1day timing for Kimba, SA (AGCD)')\n",
    "plt.ylabel('number of events')\n",
    "plt.xlabel('month')\n",
    "xlabels = [calendar.month_abbr[i] for i in months]\n",
    "plt.xticks(months, xlabels)\n",
    "plt.show()"
   ]
  },
  {
   "cell_type": "code",
   "execution_count": 26,
   "id": "79f51c83",
   "metadata": {
    "papermill": {
     "duration": 0.022061,
     "end_time": "2023-01-04T04:30:24.750618",
     "exception": false,
     "start_time": "2023-01-04T04:30:24.728557",
     "status": "completed"
    },
    "tags": []
   },
   "outputs": [],
   "source": [
    "def gev_analysis(ds, event):\n",
    "    \"\"\"Perform GEV analysis\n",
    "    \n",
    "    Args:\n",
    "      ds (Pandas Series): Data sample\n",
    "      event (float) : Event of interest\n",
    "      region (str) : Name of spatial region\n",
    "    \"\"\"\n",
    "\n",
    "    gev_shape, gev_loc, gev_scale = indices.fit_gev(ds.values)\n",
    "    print(f'Shape parameter: {gev_shape:.2f}')\n",
    "    print(f'Location parameter: {gev_loc:.2f}')\n",
    "    print(f'Scale parameter: {gev_scale:.2f}')\n",
    "\n",
    "    fig, ax = plt.subplots(figsize=[10, 8])\n",
    "    gev_xvals = np.arange(0, 160)\n",
    "    ds.plot.hist(bins=40, density=True, color='tab:green', alpha=0.5)\n",
    "    gev_pdf = gev.pdf(gev_xvals, gev_shape, gev_loc, gev_scale)\n",
    "    plt.plot(gev_xvals, gev_pdf, color='tab:green', linewidth=4.0)\n",
    "    plt.xlim(0, 160)\n",
    "    plt.xlabel('precipitation (mm)')\n",
    "    plt.ylabel('probability')\n",
    "    plt.title('Rx1day for Kimba, SA (AGCD)')\n",
    "    plt.show()\n",
    "    \n",
    "    event_probability = gev.sf(event, gev_shape, loc=gev_loc, scale=gev_scale)\n",
    "    event_return_period = 1. / event_probability\n",
    "    event_percentile = (1 - event_probability) * 100\n",
    "    print(f'{event_return_period:.0f} year return period\\n')\n",
    "    print(f'{event_percentile:.2f}% percentile')"
   ]
  },
  {
   "cell_type": "code",
   "execution_count": 27,
   "id": "ef2629df",
   "metadata": {
    "papermill": {
     "duration": 0.856225,
     "end_time": "2023-01-04T04:30:25.620408",
     "exception": false,
     "start_time": "2023-01-04T04:30:24.764183",
     "status": "completed"
    },
    "tags": []
   },
   "outputs": [
    {
     "name": "stdout",
     "output_type": "stream",
     "text": [
      "Shape parameter: -0.17\n",
      "Location parameter: 22.57\n",
      "Scale parameter: 9.11\n"
     ]
    },
    {
     "data": {
      "image/png": "[encoded data removed]",
      "text/plain": [
       "<Figure size 720x576 with 1 Axes>"
      ]
     },
     "metadata": {
      "needs_background": "light"
     },
     "output_type": "display_data"
    },
    {
     "name": "stdout",
     "output_type": "stream",
     "text": [
      "1454 year return period\n",
      "\n",
      "99.93% percentile\n"
     ]
    }
   ],
   "source": [
    "gev_analysis(df_rx1day['pr'], rx1day_max)"
   ]
  },
  {
   "cell_type": "code",
   "execution_count": 28,
   "id": "4845448d",
   "metadata": {
    "papermill": {
     "duration": 0.254326,
     "end_time": "2023-01-04T04:30:25.903736",
     "exception": false,
     "start_time": "2023-01-04T04:30:25.649410",
     "status": "completed"
    },
    "tags": []
   },
   "outputs": [
    {
     "name": "stdout",
     "output_type": "stream",
     "text": [
      "Shape parameter: -0.10\n",
      "Location parameter: 22.68\n",
      "Scale parameter: 8.91\n"
     ]
    },
    {
     "data": {
      "image/png": "[encoded data removed]",
      "text/plain": [
       "<Figure size 720x576 with 1 Axes>"
      ]
     },
     "metadata": {
      "needs_background": "light"
     },
     "output_type": "display_data"
    },
    {
     "name": "stdout",
     "output_type": "stream",
     "text": [
      "8929 year return period\n",
      "\n",
      "99.99% percentile\n"
     ]
    }
   ],
   "source": [
    "gev_analysis(df_rx1day['pr'][:-1], rx1day_max)"
   ]
  },
  {
   "cell_type": "code",
   "execution_count": null,
   "id": "c313f9d4",
   "metadata": {},
   "outputs": [],
   "source": []
  }
 ],
 "metadata": {
  "kernelspec": {
   "display_name": "Python 3",
   "language": "python",
   "name": "python3"
  },
  "language_info": {
   "codemirror_mode": {
    "name": "ipython",
    "version": 3
   },
   "file_extension": ".py",
   "mimetype": "text/x-python",
   "name": "python",
   "nbconvert_exporter": "python",
   "pygments_lexer": "ipython3",
   "version": "3.9.4"
  },
  "papermill": {
   "default_parameters": {},
   "duration": 25.910592,
   "end_time": "2023-01-04T04:30:26.570013",
   "environment_variables": {},
   "exception": null,
   "input_path": "AGCD.ipynb",
   "output_path": "AGCD_east-coast-flood-region.ipynb",
   "parameters": {
    "nino_file": "/home/599/dbi599/east-coast-rain/nino34.txt",
    "region_name": "east-coast-flood-region",
    "rx15day_file": "/g/data/xv83/dbi599/east-coast-rain/data/Rx15day_AGCD-CSIRO_r005_1900-2022_annual-aug-to-sep_east-coast-flood-region.zarr.zip"
   },
   "start_time": "2023-01-04T04:30:00.659421",
   "version": "2.3.3"
  }
 },
 "nbformat": 4,
 "nbformat_minor": 5
}
